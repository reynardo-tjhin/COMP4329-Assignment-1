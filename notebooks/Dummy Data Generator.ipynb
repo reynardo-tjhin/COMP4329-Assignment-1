{
 "cells": [
  {
   "cell_type": "markdown",
   "metadata": {},
   "source": [
    "# Generate Dummy Dataset"
   ]
  },
  {
   "cell_type": "code",
   "execution_count": 1,
   "metadata": {},
   "outputs": [],
   "source": [
    "import numpy as np\n",
    "from sklearn.model_selection import train_test_split\n",
    "\n",
    "n_examples = 300\n",
    "n_attributes = 5\n",
    "n_classes = 3\n",
    "\n",
    "class_1 = np.hstack([np.random.normal( 4, 1, size=(n_examples, n_attributes)), np.zeros(shape=(n_examples, 1))])\n",
    "class_2 = np.hstack([np.random.normal( 0, 1, size=(n_examples, n_attributes)), np.ones(shape=(n_examples, 1))])\n",
    "class_3 = np.hstack([np.random.normal(-4, 1, size=(n_examples, n_attributes)), np.ones(shape=(n_examples, 1)) * 2])\n",
    "dataset = np.vstack([class_1, class_2, class_3])\n",
    "\n",
    "X = dataset[:, :-1]\n",
    "y = dataset[:, -1]\n",
    "X_train, X_test, y_train, y_test = train_test_split(X, y, test_size=0.2)"
   ]
  },
  {
   "cell_type": "code",
   "execution_count": 2,
   "metadata": {},
   "outputs": [
    {
     "name": "stdout",
     "output_type": "stream",
     "text": [
      "72.63888888888889\n"
     ]
    }
   ],
   "source": [
    "y_train_n_examples = y_train.shape[0]\n",
    "\n",
    "class_noise = np.random.uniform(low=0., high=1., size=(y_train_n_examples, n_classes))\n",
    "class_noise_exp = np.exp(class_noise - np.max(class_noise))\n",
    "softmax_class_noise = class_noise_exp / np.vstack([np.sum(class_noise_exp, axis=1)] * 3).T\n",
    "noisy_y_train = np.argmax(softmax_class_noise, axis=1)\n",
    "\n",
    "new_y_train = np.zeros(y_train.shape)\n",
    "probability = 0.4 # probability of changing the class (how much noise in the class label)\n",
    "for i in range(y_train_n_examples):\n",
    "    new_y_train[i] = noisy_y_train[i] if np.random.random() <= probability else y_train[i]\n",
    "\n",
    "print(np.sum(y_train == new_y_train) / 720 * 100) # out of 720\n",
    "\n",
    "# uncomment this if need to add noise\n",
    "# y_train = new_y_train"
   ]
  },
  {
   "cell_type": "code",
   "execution_count": 3,
   "metadata": {},
   "outputs": [],
   "source": [
    "# Add some noise to the training data\n",
    "noise = np.random.uniform(low=0., high=1., size=(X_train.shape))\n",
    "noisy_X = X_train + noise\n",
    "\n",
    "# uncomment this if need to add noise\n",
    "# X_train = noisy_X"
   ]
  },
  {
   "cell_type": "code",
   "execution_count": 4,
   "metadata": {},
   "outputs": [],
   "source": [
    "np.save(\"./dummy_dataset/train_data.npy\", X_train)\n",
    "np.save(\"./dummy_dataset/train_label.npy\", y_train)\n",
    "np.save(\"./dummy_dataset/test_data.npy\", X_test)\n",
    "np.save(\"./dummy_dataset/test_label.npy\", y_test)"
   ]
  },
  {
   "cell_type": "code",
   "execution_count": 5,
   "metadata": {},
   "outputs": [
    {
     "name": "stdout",
     "output_type": "stream",
     "text": [
      "(10, 128)\n",
      "(10, 1)\n",
      "(10, 128)\n",
      "(10, 1)\n"
     ]
    }
   ],
   "source": [
    "# get dataset\n",
    "X_train = np.load(\"./dataset/train_data.npy\")\n",
    "y_train = np.load(\"./dataset/train_label.npy\")\n",
    "X_test = np.load(\"./dataset/test_data.npy\")\n",
    "y_test = np.load(\"./dataset/test_label.npy\")\n",
    "\n",
    "X_train = X_train[0:10]\n",
    "y_train = y_train[0:10]\n",
    "X_test = X_test[0:10]\n",
    "y_test = y_test[0:10]\n",
    "\n",
    "print(X_train.shape)\n",
    "print(y_train.shape)\n",
    "print(X_test.shape)\n",
    "print(y_test.shape)\n",
    "\n",
    "np.save(\"./subset_dataset/train_data.npy\", X_train)\n",
    "np.save(\"./subset_dataset/train_label.npy\", y_train)\n",
    "np.save(\"./subset_dataset/test_data.npy\", X_test)\n",
    "np.save(\"./subset_dataset/test_label.npy\", y_test)"
   ]
  }
 ],
 "metadata": {
  "kernelspec": {
   "display_name": "Python 3",
   "language": "python",
   "name": "python3"
  },
  "language_info": {
   "codemirror_mode": {
    "name": "ipython",
    "version": 3
   },
   "file_extension": ".py",
   "mimetype": "text/x-python",
   "name": "python",
   "nbconvert_exporter": "python",
   "pygments_lexer": "ipython3",
   "version": "3.8.10"
  }
 },
 "nbformat": 4,
 "nbformat_minor": 2
}
