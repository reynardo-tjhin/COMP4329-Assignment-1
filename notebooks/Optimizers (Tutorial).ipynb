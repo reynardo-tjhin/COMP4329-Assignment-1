{
 "cells": [
  {
   "cell_type": "markdown",
   "metadata": {},
   "source": [
    "# SGD with Momentum and Weight Decay and Adam Optimizers"
   ]
  },
  {
   "cell_type": "markdown",
   "metadata": {},
   "source": [
    "## Create a sample data with two weights\n",
    "\n",
    "- The formula is: `y = x1 * w1 + x2 * w2 + b`\n",
    "    where `w1 = 0.8, w2 = -0.1 and b = 0.6`.\n",
    "- Noise can be generated using np random's uniform distribution with a range of [-0.5, 0.5].\n",
    "- Noise is then added to the y."
   ]
  },
  {
   "cell_type": "code",
   "execution_count": 1,
   "metadata": {},
   "outputs": [],
   "source": [
    "import numpy as np\n",
    "import matplotlib.pyplot as plt\n",
    "\n",
    "w = np.array([0.8, -0.2])\n",
    "b = 0.6\n",
    "\n",
    "x1 = np.random.uniform(low=-10., high=10., size=(100,))\n",
    "x2 = np.random.uniform(low=-10., high=10., size=(100,))\n",
    "x = np.vstack((x1, x2)).T\n",
    "\n",
    "# y = w1 * x1 + w2 * x2 + b\n",
    "y = x @ w.T + b\n",
    "\n",
    "noise = np.random.uniform(low=-.5, high=.5, size=(100,))\n",
    "noisy_y = y + noise"
   ]
  },
  {
   "cell_type": "markdown",
   "metadata": {},
   "source": [
    "## Create a function to train the data with SGD"
   ]
  },
  {
   "cell_type": "code",
   "execution_count": 2,
   "metadata": {},
   "outputs": [],
   "source": [
    "def train_sgd(x: np.ndarray, \n",
    "              y: np.ndarray,\n",
    "              epochs: int, \n",
    "              lr: float, \n",
    "              mom: float,\n",
    "              weight_decay: float):\n",
    "\n",
    "    # step 1: initialize the weight using glorot uniform initialization\n",
    "    w = np.array([0.5, 0.5])\n",
    "    b = 0\n",
    "\n",
    "    # define v for momentum\n",
    "    v_w = np.zeros_like(w)\n",
    "    v_b = 0\n",
    "\n",
    "    # perform the training\n",
    "    loss = np.zeros(epochs)\n",
    "    for epoch in range(epochs):\n",
    "\n",
    "        # go through each example\n",
    "        losses = np.zeros(x.shape[0])\n",
    "        for i in range(x.shape[0]):\n",
    "\n",
    "            # step 2: predict the y\n",
    "            y_hat = x[i] @ w.T + b\n",
    "\n",
    "            # step 3: calculate the MSE loss\n",
    "            losses[i] = 0.5 * (y[i] - y_hat) ** 2\n",
    "\n",
    "            # step 4: calculate the gradients\n",
    "            dL_dyhat = y_hat - y[i]\n",
    "            dL_dw = dL_dyhat * x[i]\n",
    "            dL_db = dL_dyhat\n",
    "\n",
    "            # step 5: update the weights\n",
    "            v_w = mom * v_w + lr * dL_dw\n",
    "            v_b = mom * v_b + lr * dL_db\n",
    "\n",
    "            w_decay = weight_decay * lr * w\n",
    "\n",
    "            w = w - v_w - w_decay\n",
    "            b = b - v_b\n",
    "\n",
    "        loss[epoch] = np.mean(losses)\n",
    "\n",
    "    print(f\"final loss: {np.mean(losses)}\")\n",
    "    return w, b, loss"
   ]
  },
  {
   "cell_type": "markdown",
   "metadata": {},
   "source": [
    "## Create a function to train the data with Adam Optimizer"
   ]
  },
  {
   "cell_type": "code",
   "execution_count": 3,
   "metadata": {},
   "outputs": [],
   "source": [
    "def train_adam(x: np.ndarray,\n",
    "               y: np.ndarray,\n",
    "               epochs: int,\n",
    "               lr: float,\n",
    "               rho1: float = 0.9,\n",
    "               rho2: float = 0.999,\n",
    "               epsilon: float = 1e-8):\n",
    "    \n",
    "    # step 1: initialize the weight using glorot uniform initialization\n",
    "    w = np.array([0.5, 0.5])\n",
    "    b = 0\n",
    "\n",
    "    t = 0\n",
    "    s_w = np.zeros_like(w)\n",
    "    s_b = 0\n",
    "    r_w = np.zeros_like(w)\n",
    "    r_b = 0\n",
    "    \n",
    "    # perform the training\n",
    "    loss = np.zeros(epochs)\n",
    "    for epoch in range(epochs):\n",
    "\n",
    "        t += 1\n",
    "\n",
    "        # go through each example\n",
    "        losses = np.zeros(x.shape[0])\n",
    "        for i in range(x.shape[0]):\n",
    "\n",
    "            # step 2: predict the y\n",
    "            y_hat = x[i] @ w.T + b\n",
    "\n",
    "            # step 3: calculate the MSE loss\n",
    "            losses[i] = 0.5 * (y[i] - y_hat) ** 2\n",
    "\n",
    "            # step 4: calculate the gradients\n",
    "            dL_dyhat = y_hat - y[i]\n",
    "            dL_dw = dL_dyhat * x[i]\n",
    "            dL_db = dL_dyhat\n",
    "\n",
    "            # step 5: update the weights\n",
    "            s_w = rho1 * s_w + (1 - rho1) * dL_dw\n",
    "            s_b = rho1 * s_b + (1 - rho1) * dL_db\n",
    "\n",
    "            r_w = rho2 * r_w + (1 - rho2) * dL_dw**2\n",
    "            r_b = rho2 * r_b + (1 - rho2) * dL_db**2\n",
    "\n",
    "            st_w = s_w / (1 - rho1**t)\n",
    "            st_b = s_b / (1 - rho1**t)\n",
    "\n",
    "            rt_w = r_w / (1 - rho2**t)\n",
    "            rt_b = r_b / (1 - rho2**t)\n",
    "\n",
    "            w -= lr * st_w / np.sqrt(rt_w + epsilon)\n",
    "            b -= lr * st_b / np.sqrt(rt_b + epsilon)\n",
    "\n",
    "        loss[epoch] = np.mean(losses)\n",
    "\n",
    "    print(f\"final loss: {np.mean(losses)}\")\n",
    "    return w, b, loss"
   ]
  },
  {
   "cell_type": "markdown",
   "metadata": {},
   "source": [
    "## Train the data"
   ]
  },
  {
   "cell_type": "code",
   "execution_count": 4,
   "metadata": {},
   "outputs": [
    {
     "name": "stdout",
     "output_type": "stream",
     "text": [
      "final loss: 0.0547578232636525\n",
      "final loss: 0.09025564528147063\n",
      "final loss: 0.04258333038052417\n"
     ]
    }
   ],
   "source": [
    "epochs = 20\n",
    "lr = 0.01\n",
    "\n",
    "# no momentum\n",
    "sgd_learned_w, sgd_learned_b, sgd_loss = train_sgd(\n",
    "    x=x,\n",
    "    y=noisy_y,\n",
    "    epochs=epochs,\n",
    "    lr=lr, \n",
    "    mom=0,\n",
    "    weight_decay=0,\n",
    ")\n",
    "# with momentum\n",
    "sgdm_learned_w, sgdm_learned_b, sgdm_loss = train_sgd(\n",
    "    x=x,\n",
    "    y=noisy_y,\n",
    "    epochs=epochs,\n",
    "    lr=lr, \n",
    "    mom=0.5,\n",
    "    weight_decay=0,\n",
    ")\n",
    "# adam\n",
    "adam_learned_w, adam_learned_b, adam_loss = train_adam(\n",
    "    x=x,\n",
    "    y=noisy_y,\n",
    "    epochs=epochs,\n",
    "    lr=0.01,\n",
    ")"
   ]
  },
  {
   "cell_type": "markdown",
   "metadata": {},
   "source": [
    "## Output Comparisons"
   ]
  },
  {
   "cell_type": "code",
   "execution_count": 5,
   "metadata": {},
   "outputs": [
    {
     "name": "stdout",
     "output_type": "stream",
     "text": [
      "actual w:       [ 0.8 -0.2]\n",
      "sgd learned w:  [ 0.81779163 -0.16656624]\n",
      "sgdm learned w: [ 0.79878259 -0.13598875]\n",
      "adam learned w: [ 0.80000845 -0.19468997]\n",
      "\n",
      "actual b:       0.6\n",
      "sgd learned b:  0.587701324303953\n",
      "sgdm learned b: 0.6714136579418654\n",
      "adam learned b: 0.5639787811441063\n"
     ]
    }
   ],
   "source": [
    "print(f\"actual w:       {w}\")\n",
    "print(f\"sgd learned w:  {sgd_learned_w}\")\n",
    "print(f\"sgdm learned w: {sgdm_learned_w}\")\n",
    "print(f\"adam learned w: {adam_learned_w}\")\n",
    "print()\n",
    "print(f\"actual b:       {b}\")\n",
    "print(f\"sgd learned b:  {sgd_learned_b}\")\n",
    "print(f\"sgdm learned b: {sgdm_learned_b}\")\n",
    "print(f\"adam learned b: {adam_learned_b}\")\n",
    "\n",
    "# x = np.arange(start=0., stop=10., step=0.1)\n",
    "y = x @ w.T + b\n",
    "sgd_y_hat = sgd_learned_w * x + sgd_learned_b\n",
    "sgdm_y_hat = sgdm_learned_w * x + sgdm_learned_b\n",
    "adam_y_hat = adam_learned_w * x + adam_learned_b\n",
    "\n",
    "# plt.figure(figsize=(12,10))\n",
    "# plt.title('Dummy Data')\n",
    "# plt.plot(x, y, color = 'black', label='actual')\n",
    "# plt.plot(x, sgd_y_hat, color='blue', label='sgd')\n",
    "# plt.plot(x, sgdm_y_hat, color='red', label='sgdm')\n",
    "# plt.plot(x, adam_y_hat, color='green', label='adam')\n",
    "# plt.scatter(x, noisy_y, color='grey')\n",
    "# plt.legend()\n",
    "# plt.show()"
   ]
  },
  {
   "cell_type": "markdown",
   "metadata": {},
   "source": [
    "## Loss vs Epoch comparisons\n",
    "\n",
    "With SGD being used as the benchmark, here are some of the observations we can see:\n",
    "- Adam optimizer starts from the highest loss but quickly learns and drops to below SGD.\n",
    "- Although SGD with momentum learns faster at the 1st epoch, its loss stagnates above SGD."
   ]
  },
  {
   "cell_type": "code",
   "execution_count": 6,
   "metadata": {},
   "outputs": [
    {
     "data": {
      "image/png": "[encoded data removed]",
      "text/plain": [
       "<Figure size 864x720 with 1 Axes>"
      ]
     },
     "metadata": {
      "needs_background": "light"
     },
     "output_type": "display_data"
    }
   ],
   "source": [
    "plt.figure(figsize=(12,10))\n",
    "plt.title('Loss (SGD vs SGDM vs Adam)')\n",
    "plt.plot(sgd_loss, label='SGD')\n",
    "plt.plot(sgdm_loss, label='SGD with Momentum')\n",
    "plt.plot(adam_loss, label='Adam')\n",
    "plt.ylabel('loss')\n",
    "plt.xlabel('epoch')\n",
    "plt.legend()\n",
    "plt.show()"
   ]
  }
 ],
 "metadata": {
  "kernelspec": {
   "display_name": "Python 3",
   "language": "python",
   "name": "python3"
  },
  "language_info": {
   "codemirror_mode": {
    "name": "ipython",
    "version": 3
   },
   "file_extension": ".py",
   "mimetype": "text/x-python",
   "name": "python",
   "nbconvert_exporter": "python",
   "pygments_lexer": "ipython3",
   "version": "3.8.10"
  }
 },
 "nbformat": 4,
 "nbformat_minor": 2
}
